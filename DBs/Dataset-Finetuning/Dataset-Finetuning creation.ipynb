{
 "cells": [
  {
   "cell_type": "code",
   "execution_count": 1,
   "id": "7c52613c-4d70-4f52-a254-74d596a4135f",
   "metadata": {},
   "outputs": [],
   "source": [
    "import json\n",
    "import numpy as np\n",
    "import os\n",
    "import pandas as pd\n",
    "import random\n",
    "import re\n",
    "from collections import defaultdict\n",
    "\n",
    "from tqdm import tqdm"
   ]
  },
  {
   "cell_type": "code",
   "execution_count": 2,
   "id": "70125f59-de5d-4660-9509-2aff03004433",
   "metadata": {},
   "outputs": [
    {
     "name": "stdout",
     "output_type": "stream",
     "text": [
      "(62750, 8)\n"
     ]
    }
   ],
   "source": [
    "flowchart = pd.read_csv(\"features/flowchart_Dataset-Finetuning.csv\")\n",
    "print(flowchart.shape)"
   ]
  },
  {
   "cell_type": "code",
   "execution_count": 3,
   "id": "fad8ba61-dc28-40f0-9281-1fa7e77d5262",
   "metadata": {},
   "outputs": [
    {
     "name": "stdout",
     "output_type": "stream",
     "text": [
      "(56255, 7)\n"
     ]
    }
   ],
   "source": [
    "del flowchart['bb_list']\n",
    "flowchart = flowchart[flowchart['bb_num'] >= 5]\n",
    "flowchart.drop_duplicates(\"hashopcodes\", keep=\"first\", inplace=True)\n",
    "print(flowchart.shape)"
   ]
  },
  {
   "cell_type": "code",
   "execution_count": 4,
   "id": "1afa7f3d-9359-417a-99f1-d859f341f667",
   "metadata": {},
   "outputs": [],
   "source": [
    "x86_idb_path_list = flowchart[flowchart[\"idb_path\"].str.contains(\"/x86/\")][\"idb_path\"].unique().tolist()\n",
    "arm32_idb_path_list = flowchart[flowchart[\"idb_path\"].str.contains(\"/arm32/\")][\"idb_path\"].unique().tolist()\n",
    "arm64_idb_path_list = flowchart[flowchart[\"idb_path\"].str.contains(\"/arm64/\")][\"idb_path\"].unique().tolist()\n",
    "mips32_idb_path_list = flowchart[flowchart[\"idb_path\"].str.contains(\"/mips32/\")][\"idb_path\"].unique().tolist()\n",
    "\n",
    "architecture_map = {\n",
    "    \"x86\": x86_idb_path_list,\n",
    "    \"arm32\": arm32_idb_path_list,\n",
    "    \"arm64\": arm64_idb_path_list,\n",
    "    \"mips32\": mips32_idb_path_list\n",
    "}"
   ]
  },
  {
   "cell_type": "code",
   "execution_count": 5,
   "id": "32692cc3-cd8b-4220-a550-88bfb31b2cd4",
   "metadata": {},
   "outputs": [
    {
     "name": "stderr",
     "output_type": "stream",
     "text": [
      "/tmp/ipykernel_864435/179383204.py:9: UserWarning: This pattern is interpreted as a regular expression, and has match groups. To actually get the groups, use str.extract.\n",
      "  (flowchart[\"func_name\"].str.contains(pattern, case=False, na=False, regex=True))\n"
     ]
    },
    {
     "data": {
      "text/plain": [
       "6342"
      ]
     },
     "execution_count": 5,
     "metadata": {},
     "output_type": "execute_result"
    }
   ],
   "source": [
    "crypto_keywords = [\n",
    "    \"aes\", \"des\", \"rc4\", \"sha\", \"md5\", \"hmac\", \"hash\",\n",
    "    \"cbc\", \"ecb\", \"rsa\", \"dsa\", \"ecdsa\", \"curve\", \"poly1305\", \"chacha\"\n",
    "]\n",
    "pattern = r'(' + '|'.join(crypto_keywords) + r')'\n",
    "\n",
    "df = flowchart[\n",
    "    (~flowchart[\"func_name\"].str.contains(\"sub_\")) &\n",
    "    (flowchart[\"func_name\"].str.contains(pattern, case=False, na=False, regex=True))\n",
    "].copy()\n",
    "\n",
    "df = df[df['func_name'].isin(df['func_name'].value_counts()[df['func_name'].value_counts() > 1].index)]\n",
    "\n",
    "crypt_funcs_list = df[\"func_name\"].unique().tolist()\n",
    "\n",
    "len(df)"
   ]
  },
  {
   "cell_type": "code",
   "execution_count": 6,
   "id": "d50dcfb8-4d6e-41d8-a50d-ada72a751a0d",
   "metadata": {},
   "outputs": [
    {
     "name": "stdout",
     "output_type": "stream",
     "text": [
      "architecture\n",
      "x86       1647\n",
      "arm64     1645\n",
      "mips32    1630\n",
      "arm32     1420\n",
      "Name: count, dtype: int64\n"
     ]
    }
   ],
   "source": [
    "def detect_architecture(path):\n",
    "    for arch, path_list in architecture_map.items():\n",
    "        if path in path_list:\n",
    "            return arch\n",
    "    return \"unknown\"\n",
    "\n",
    "df[\"architecture\"] = df[\"idb_path\"].apply(detect_architecture)\n",
    "\n",
    "arch_counts = df[\"architecture\"].value_counts()\n",
    "\n",
    "print(arch_counts)"
   ]
  },
  {
   "cell_type": "code",
   "execution_count": 7,
   "id": "eaee4650-9d12-4810-b6c6-f518a434e655",
   "metadata": {},
   "outputs": [
    {
     "name": "stdout",
     "output_type": "stream",
     "text": [
      "optimizations\n",
      "O1    4153\n",
      "O3    2189\n",
      "Name: count, dtype: int64\n"
     ]
    }
   ],
   "source": [
    "def detect_optimizations(path):\n",
    "    if \"/O1/\" in path:\n",
    "        return \"O1\"\n",
    "    elif \"/O3/\" in path:\n",
    "        return \"O3\"\n",
    "    else:\n",
    "        return \"unknown\"\n",
    "\n",
    "df[\"optimizations\"] = df[\"idb_path\"].apply(detect_optimizations)\n",
    "\n",
    "optimizations_counts = df[\"optimizations\"].value_counts()\n",
    "\n",
    "print(optimizations_counts)"
   ]
  },
  {
   "cell_type": "code",
   "execution_count": 8,
   "id": "e35a4437-f170-4c0e-b8ed-ec94dfb1141e",
   "metadata": {},
   "outputs": [
    {
     "name": "stdout",
     "output_type": "stream",
     "text": [
      "category      aes  cbc  chacha  curve  des  dsa  ecb  hash  hmac  md5  \\\n",
      "architecture                                                            \n",
      "arm32         148   35      37     88  118  175    7   154    75    9   \n",
      "arm64         167   34      42    111  127  181    8   183    90   14   \n",
      "mips32        148   34      45    113  130  185    8   189    92   14   \n",
      "x86           162   35      42    114  127  188    8   182    87   12   \n",
      "\n",
      "category      poly1305  rc4  rsa  sha  \n",
      "architecture                           \n",
      "arm32               71   13  340  150  \n",
      "arm64               86   15  374  213  \n",
      "mips32              87   15  371  199  \n",
      "x86                 91   16  374  209  \n"
     ]
    }
   ],
   "source": [
    "def extract_keyword(func_name):\n",
    "    for kw in crypto_keywords:\n",
    "        if re.search(kw, func_name, re.IGNORECASE):\n",
    "            return kw.lower()\n",
    "    return \"unknown\"\n",
    "\n",
    "df[\"category\"] = df[\"func_name\"].apply(extract_keyword)\n",
    "\n",
    "cross_counts = df.groupby([\"architecture\", \"category\"]).size().unstack(fill_value=0)\n",
    "\n",
    "print(cross_counts)"
   ]
  },
  {
   "cell_type": "code",
   "execution_count": 9,
   "id": "ecb7792b-c37a-495d-9699-1d6e3fdb63a6",
   "metadata": {},
   "outputs": [
    {
     "name": "stdout",
     "output_type": "stream",
     "text": [
      "     Keyword  Count\n",
      "9        rsa   1522\n",
      "6       hash    835\n",
      "3        sha    779\n",
      "10       dsa    753\n",
      "0        aes    625\n",
      "1        des    502\n",
      "12     curve    432\n",
      "5       hmac    374\n",
      "13  poly1305    360\n",
      "14    chacha    347\n",
      "7        cbc    314\n",
      "11     ecdsa    158\n",
      "4        md5     65\n",
      "8        ecb     60\n",
      "2        rc4     59\n"
     ]
    }
   ],
   "source": [
    "keyword_counts = {\n",
    "    keyword: df[\"func_name\"].str.contains(keyword, case=False).sum()\n",
    "    for keyword in crypto_keywords\n",
    "}\n",
    "counts_df = pd.DataFrame(list(keyword_counts.items()), columns=[\"Keyword\", \"Count\"])\n",
    "print(counts_df.sort_values(by=\"Count\", ascending=False))"
   ]
  },
  {
   "cell_type": "code",
   "execution_count": 10,
   "id": "bdff31fa-2723-4a3d-bf0f-19dccb68e332",
   "metadata": {},
   "outputs": [
    {
     "name": "stdout",
     "output_type": "stream",
     "text": [
      "Training size: 3772\n",
      "Testing size: 1281\n",
      "Validation size: 1289\n"
     ]
    }
   ],
   "source": [
    "# Shuffle by function name\n",
    "unique_func_names = df[\"func_name\"].unique()\n",
    "shuffled_func_names = pd.Series(unique_func_names).sample(frac=1, random_state=459657).reset_index(drop=True)\n",
    "\n",
    "# Calculate split sizes based on the number of unique function names\n",
    "n_total_funcs = len(shuffled_func_names)\n",
    "n_test_funcs = int(n_total_funcs * 0.2)\n",
    "n_validation_funcs = int(n_total_funcs * 0.2)\n",
    "n_train_funcs = n_total_funcs - n_validation_funcs - n_test_funcs\n",
    "\n",
    "# Split function names\n",
    "train_funcs = shuffled_func_names[:n_train_funcs]\n",
    "test_funcs = shuffled_func_names[n_train_funcs:n_train_funcs + n_test_funcs]\n",
    "validation_funcs = shuffled_func_names[n_train_funcs + n_test_funcs:]\n",
    "\n",
    "# Create dataframes for each set\n",
    "df_training = df[df[\"func_name\"].isin(train_funcs)].reset_index(drop=True)\n",
    "df_testing = df[df[\"func_name\"].isin(test_funcs)].reset_index(drop=True)\n",
    "df_validation = df[df[\"func_name\"].isin(validation_funcs)].reset_index(drop=True)\n",
    "\n",
    "# Check the result\n",
    "print(f\"Training size: {len(df_training)}\")\n",
    "print(f\"Testing size: {len(df_testing)}\")\n",
    "print(f\"Validation size: {len(df_validation)}\")"
   ]
  },
  {
   "cell_type": "code",
   "execution_count": 11,
   "id": "bc8355a8-78c7-467f-ba4f-84be88b9263b",
   "metadata": {},
   "outputs": [
    {
     "name": "stdout",
     "output_type": "stream",
     "text": [
      "Generating Training pairs:\n",
      "Processing x86 architecture.\n"
     ]
    },
    {
     "name": "stderr",
     "output_type": "stream",
     "text": [
      "100%|████████████████████████████████████████████████████████████████████████████████████████████████████████████████████████| 1356/1356 [02:01<00:00, 11.14it/s]\n"
     ]
    },
    {
     "name": "stdout",
     "output_type": "stream",
     "text": [
      "Processing arm32 architecture.\n"
     ]
    },
    {
     "name": "stderr",
     "output_type": "stream",
     "text": [
      "100%|████████████████████████████████████████████████████████████████████████████████████████████████████████████████████████| 1356/1356 [01:35<00:00, 14.19it/s]\n"
     ]
    },
    {
     "name": "stdout",
     "output_type": "stream",
     "text": [
      "Processing arm64 architecture.\n"
     ]
    },
    {
     "name": "stderr",
     "output_type": "stream",
     "text": [
      "100%|████████████████████████████████████████████████████████████████████████████████████████████████████████████████████████| 1356/1356 [02:09<00:00, 10.44it/s]\n"
     ]
    },
    {
     "name": "stdout",
     "output_type": "stream",
     "text": [
      "Processing mips32 architecture.\n"
     ]
    },
    {
     "name": "stderr",
     "output_type": "stream",
     "text": [
      "100%|████████████████████████████████████████████████████████████████████████████████████████████████████████████████████████| 1356/1356 [02:07<00:00, 10.60it/s]\n"
     ]
    },
    {
     "name": "stdout",
     "output_type": "stream",
     "text": [
      "All done!!\n",
      "Total: 3569430.\n",
      "Generating Testing pairs:\n",
      "Processing x86 architecture.\n"
     ]
    },
    {
     "name": "stderr",
     "output_type": "stream",
     "text": [
      "100%|████████████████████████████████████████████████████████████████████████████████████████████████████████████████████████| 1356/1356 [00:19<00:00, 69.01it/s]\n"
     ]
    },
    {
     "name": "stdout",
     "output_type": "stream",
     "text": [
      "Processing arm32 architecture.\n"
     ]
    },
    {
     "name": "stderr",
     "output_type": "stream",
     "text": [
      "100%|████████████████████████████████████████████████████████████████████████████████████████████████████████████████████████| 1356/1356 [00:15<00:00, 87.98it/s]\n"
     ]
    },
    {
     "name": "stdout",
     "output_type": "stream",
     "text": [
      "Processing arm64 architecture.\n"
     ]
    },
    {
     "name": "stderr",
     "output_type": "stream",
     "text": [
      "100%|████████████████████████████████████████████████████████████████████████████████████████████████████████████████████████| 1356/1356 [00:20<00:00, 67.56it/s]\n"
     ]
    },
    {
     "name": "stdout",
     "output_type": "stream",
     "text": [
      "Processing mips32 architecture.\n"
     ]
    },
    {
     "name": "stderr",
     "output_type": "stream",
     "text": [
      "100%|████████████████████████████████████████████████████████████████████████████████████████████████████████████████████████| 1356/1356 [00:19<00:00, 68.17it/s]\n"
     ]
    },
    {
     "name": "stdout",
     "output_type": "stream",
     "text": [
      "All done!!\n",
      "Total: 412199.\n",
      "Generating Validation pairs:\n",
      "Processing x86 architecture.\n"
     ]
    },
    {
     "name": "stderr",
     "output_type": "stream",
     "text": [
      "100%|████████████████████████████████████████████████████████████████████████████████████████████████████████████████████████| 1356/1356 [00:20<00:00, 67.22it/s]\n"
     ]
    },
    {
     "name": "stdout",
     "output_type": "stream",
     "text": [
      "Processing arm32 architecture.\n"
     ]
    },
    {
     "name": "stderr",
     "output_type": "stream",
     "text": [
      "100%|████████████████████████████████████████████████████████████████████████████████████████████████████████████████████████| 1356/1356 [00:16<00:00, 84.05it/s]\n"
     ]
    },
    {
     "name": "stdout",
     "output_type": "stream",
     "text": [
      "Processing arm64 architecture.\n"
     ]
    },
    {
     "name": "stderr",
     "output_type": "stream",
     "text": [
      "100%|████████████████████████████████████████████████████████████████████████████████████████████████████████████████████████| 1356/1356 [00:19<00:00, 70.40it/s]\n"
     ]
    },
    {
     "name": "stdout",
     "output_type": "stream",
     "text": [
      "Processing mips32 architecture.\n"
     ]
    },
    {
     "name": "stderr",
     "output_type": "stream",
     "text": [
      "100%|████████████████████████████████████████████████████████████████████████████████████████████████████████████████████████| 1356/1356 [00:19<00:00, 69.39it/s]\n"
     ]
    },
    {
     "name": "stdout",
     "output_type": "stream",
     "text": [
      "All done!!\n",
      "Total: 416743.\n"
     ]
    }
   ],
   "source": [
    "selected_columns = [\"idb_path\", \"fva\", \"func_name\"]\n",
    "\n",
    "def generate_pairs(fl):\n",
    "    comparison_list = list()\n",
    "    \n",
    "    for arch, data in architecture_map.items():\n",
    "        print(f\"Processing {arch} architecture.\")\n",
    "        for source_func in tqdm(crypt_funcs_list):\n",
    "            for source_path in data:\n",
    "                left_row = fl[(fl[\"idb_path\"] == source_path) & (fl[\"func_name\"] == source_func)]\n",
    "                if left_row.empty:\n",
    "                    continue\n",
    "                left = list(left_row[selected_columns].values[0])\n",
    "    \n",
    "                right_index = fl[(fl[\"idb_path\"].str.contains(f\"/{arch}/\")) & (fl[\"func_name\"].isin(crypt_funcs_list))].index\n",
    "                for index in right_index:\n",
    "                    right = list(fl.loc[index, selected_columns].values)\n",
    "                    comparison_list.append(left + right)\n",
    "    \n",
    "    print(\"All done!!\")\n",
    "    print(f\"Total: {len(comparison_list)}.\")\n",
    "\n",
    "    # Create a new DataFrame\n",
    "    columns = [x + \"_1\" for x in selected_columns] + [x + \"_2\" for x in selected_columns]\n",
    "    df = pd.DataFrame(comparison_list, columns=columns)\n",
    "    \n",
    "    # Add the db_type column\n",
    "    df[\"db_type\"] = [\"XM\"] * df.shape[0]\n",
    "    \n",
    "    # Sort the rows\n",
    "    df.sort_values(by=[\"idb_path_1\", \"fva_1\", \"idb_path_2\", \"fva_2\"], inplace=True)\n",
    "    df.reset_index(inplace=True, drop=True)\n",
    "    \n",
    "    # Paranoid check\n",
    "    df.drop_duplicates(inplace=True)\n",
    "    df.reset_index(inplace=True, drop=True)\n",
    "\n",
    "    return df\n",
    "    \n",
    "print(\"Generating Training pairs:\")\n",
    "pairs_training = generate_pairs(df_training)\n",
    "print(\"Generating Testing pairs:\")\n",
    "pairs_testing = generate_pairs(df_testing)\n",
    "print(\"Generating Validation pairs:\")\n",
    "pairs_validation = generate_pairs(df_validation)"
   ]
  },
  {
   "cell_type": "code",
   "execution_count": 12,
   "id": "eeae6c5a-0d4f-4ba6-8042-472e63b370ec",
   "metadata": {
    "scrolled": true
   },
   "outputs": [
    {
     "data": {
      "text/html": [
       "<div>\n",
       "<style scoped>\n",
       "    .dataframe tbody tr th:only-of-type {\n",
       "        vertical-align: middle;\n",
       "    }\n",
       "\n",
       "    .dataframe tbody tr th {\n",
       "        vertical-align: top;\n",
       "    }\n",
       "\n",
       "    .dataframe thead th {\n",
       "        text-align: right;\n",
       "    }\n",
       "</style>\n",
       "<table border=\"1\" class=\"dataframe\">\n",
       "  <thead>\n",
       "    <tr style=\"text-align: right;\">\n",
       "      <th></th>\n",
       "      <th>idb_path_1</th>\n",
       "      <th>fva_1</th>\n",
       "      <th>func_name_1</th>\n",
       "      <th>idb_path_2</th>\n",
       "      <th>fva_2</th>\n",
       "      <th>func_name_2</th>\n",
       "      <th>db_type</th>\n",
       "    </tr>\n",
       "  </thead>\n",
       "  <tbody>\n",
       "    <tr>\n",
       "      <th>0</th>\n",
       "      <td>IDBs/Dataset-Finetuning/arm32/O1/arm32-O1-libc...</td>\n",
       "      <td>0x100ecc</td>\n",
       "      <td>ECDSA_size</td>\n",
       "      <td>IDBs/Dataset-Finetuning/arm32/O1/arm32-O1-libc...</td>\n",
       "      <td>0x100ecc</td>\n",
       "      <td>ECDSA_size</td>\n",
       "      <td>XM</td>\n",
       "    </tr>\n",
       "    <tr>\n",
       "      <th>1</th>\n",
       "      <td>IDBs/Dataset-Finetuning/arm32/O1/arm32-O1-libc...</td>\n",
       "      <td>0x100ecc</td>\n",
       "      <td>ECDSA_size</td>\n",
       "      <td>IDBs/Dataset-Finetuning/arm32/O1/arm32-O1-libc...</td>\n",
       "      <td>0x102458</td>\n",
       "      <td>EC_GROUP_check_named_curve</td>\n",
       "      <td>XM</td>\n",
       "    </tr>\n",
       "    <tr>\n",
       "      <th>2</th>\n",
       "      <td>IDBs/Dataset-Finetuning/arm32/O1/arm32-O1-libc...</td>\n",
       "      <td>0x100ecc</td>\n",
       "      <td>ECDSA_size</td>\n",
       "      <td>IDBs/Dataset-Finetuning/arm32/O1/arm32-O1-libc...</td>\n",
       "      <td>0x102f20</td>\n",
       "      <td>EC_get_builtin_curves</td>\n",
       "      <td>XM</td>\n",
       "    </tr>\n",
       "    <tr>\n",
       "      <th>3</th>\n",
       "      <td>IDBs/Dataset-Finetuning/arm32/O1/arm32-O1-libc...</td>\n",
       "      <td>0x100ecc</td>\n",
       "      <td>ECDSA_size</td>\n",
       "      <td>IDBs/Dataset-Finetuning/arm32/O1/arm32-O1-libc...</td>\n",
       "      <td>0x102f9c</td>\n",
       "      <td>ossl_ec_curve_nid_from_params</td>\n",
       "      <td>XM</td>\n",
       "    </tr>\n",
       "    <tr>\n",
       "      <th>4</th>\n",
       "      <td>IDBs/Dataset-Finetuning/arm32/O1/arm32-O1-libc...</td>\n",
       "      <td>0x100ecc</td>\n",
       "      <td>ECDSA_size</td>\n",
       "      <td>IDBs/Dataset-Finetuning/arm32/O1/arm32-O1-libc...</td>\n",
       "      <td>0x10325c</td>\n",
       "      <td>EC_GROUP_new_curve_GFp</td>\n",
       "      <td>XM</td>\n",
       "    </tr>\n",
       "    <tr>\n",
       "      <th>...</th>\n",
       "      <td>...</td>\n",
       "      <td>...</td>\n",
       "      <td>...</td>\n",
       "      <td>...</td>\n",
       "      <td>...</td>\n",
       "      <td>...</td>\n",
       "      <td>...</td>\n",
       "    </tr>\n",
       "    <tr>\n",
       "      <th>3569425</th>\n",
       "      <td>IDBs/Dataset-Finetuning/x86/O3/x86-O3-libwolfs...</td>\n",
       "      <td>0xc6302</td>\n",
       "      <td>wolfSSL_NoKeyShares</td>\n",
       "      <td>IDBs/Dataset-Finetuning/x86/O3/x86-O3-libwolfs...</td>\n",
       "      <td>0xc1012</td>\n",
       "      <td>wolfSSL_LH_strhash</td>\n",
       "      <td>XM</td>\n",
       "    </tr>\n",
       "    <tr>\n",
       "      <th>3569426</th>\n",
       "      <td>IDBs/Dataset-Finetuning/x86/O3/x86-O3-libwolfs...</td>\n",
       "      <td>0xc6302</td>\n",
       "      <td>wolfSSL_NoKeyShares</td>\n",
       "      <td>IDBs/Dataset-Finetuning/x86/O3/x86-O3-libwolfs...</td>\n",
       "      <td>0xc1d9b</td>\n",
       "      <td>wolfSSL_3des_iv</td>\n",
       "      <td>XM</td>\n",
       "    </tr>\n",
       "    <tr>\n",
       "      <th>3569427</th>\n",
       "      <td>IDBs/Dataset-Finetuning/x86/O3/x86-O3-libwolfs...</td>\n",
       "      <td>0xc6302</td>\n",
       "      <td>wolfSSL_NoKeyShares</td>\n",
       "      <td>IDBs/Dataset-Finetuning/x86/O3/x86-O3-libwolfs...</td>\n",
       "      <td>0xc1deb</td>\n",
       "      <td>wolfSSL_aes_ctr_iv</td>\n",
       "      <td>XM</td>\n",
       "    </tr>\n",
       "    <tr>\n",
       "      <th>3569428</th>\n",
       "      <td>IDBs/Dataset-Finetuning/x86/O3/x86-O3-libwolfs...</td>\n",
       "      <td>0xc6302</td>\n",
       "      <td>wolfSSL_NoKeyShares</td>\n",
       "      <td>IDBs/Dataset-Finetuning/x86/O3/x86-O3-libwolfs...</td>\n",
       "      <td>0xc62d5</td>\n",
       "      <td>wolfSSL_UseKeyShare</td>\n",
       "      <td>XM</td>\n",
       "    </tr>\n",
       "    <tr>\n",
       "      <th>3569429</th>\n",
       "      <td>IDBs/Dataset-Finetuning/x86/O3/x86-O3-libwolfs...</td>\n",
       "      <td>0xc6302</td>\n",
       "      <td>wolfSSL_NoKeyShares</td>\n",
       "      <td>IDBs/Dataset-Finetuning/x86/O3/x86-O3-libwolfs...</td>\n",
       "      <td>0xc6302</td>\n",
       "      <td>wolfSSL_NoKeyShares</td>\n",
       "      <td>XM</td>\n",
       "    </tr>\n",
       "  </tbody>\n",
       "</table>\n",
       "<p>3569430 rows × 7 columns</p>\n",
       "</div>"
      ],
      "text/plain": [
       "                                                idb_path_1     fva_1  \\\n",
       "0        IDBs/Dataset-Finetuning/arm32/O1/arm32-O1-libc...  0x100ecc   \n",
       "1        IDBs/Dataset-Finetuning/arm32/O1/arm32-O1-libc...  0x100ecc   \n",
       "2        IDBs/Dataset-Finetuning/arm32/O1/arm32-O1-libc...  0x100ecc   \n",
       "3        IDBs/Dataset-Finetuning/arm32/O1/arm32-O1-libc...  0x100ecc   \n",
       "4        IDBs/Dataset-Finetuning/arm32/O1/arm32-O1-libc...  0x100ecc   \n",
       "...                                                    ...       ...   \n",
       "3569425  IDBs/Dataset-Finetuning/x86/O3/x86-O3-libwolfs...   0xc6302   \n",
       "3569426  IDBs/Dataset-Finetuning/x86/O3/x86-O3-libwolfs...   0xc6302   \n",
       "3569427  IDBs/Dataset-Finetuning/x86/O3/x86-O3-libwolfs...   0xc6302   \n",
       "3569428  IDBs/Dataset-Finetuning/x86/O3/x86-O3-libwolfs...   0xc6302   \n",
       "3569429  IDBs/Dataset-Finetuning/x86/O3/x86-O3-libwolfs...   0xc6302   \n",
       "\n",
       "                 func_name_1  \\\n",
       "0                 ECDSA_size   \n",
       "1                 ECDSA_size   \n",
       "2                 ECDSA_size   \n",
       "3                 ECDSA_size   \n",
       "4                 ECDSA_size   \n",
       "...                      ...   \n",
       "3569425  wolfSSL_NoKeyShares   \n",
       "3569426  wolfSSL_NoKeyShares   \n",
       "3569427  wolfSSL_NoKeyShares   \n",
       "3569428  wolfSSL_NoKeyShares   \n",
       "3569429  wolfSSL_NoKeyShares   \n",
       "\n",
       "                                                idb_path_2     fva_2  \\\n",
       "0        IDBs/Dataset-Finetuning/arm32/O1/arm32-O1-libc...  0x100ecc   \n",
       "1        IDBs/Dataset-Finetuning/arm32/O1/arm32-O1-libc...  0x102458   \n",
       "2        IDBs/Dataset-Finetuning/arm32/O1/arm32-O1-libc...  0x102f20   \n",
       "3        IDBs/Dataset-Finetuning/arm32/O1/arm32-O1-libc...  0x102f9c   \n",
       "4        IDBs/Dataset-Finetuning/arm32/O1/arm32-O1-libc...  0x10325c   \n",
       "...                                                    ...       ...   \n",
       "3569425  IDBs/Dataset-Finetuning/x86/O3/x86-O3-libwolfs...   0xc1012   \n",
       "3569426  IDBs/Dataset-Finetuning/x86/O3/x86-O3-libwolfs...   0xc1d9b   \n",
       "3569427  IDBs/Dataset-Finetuning/x86/O3/x86-O3-libwolfs...   0xc1deb   \n",
       "3569428  IDBs/Dataset-Finetuning/x86/O3/x86-O3-libwolfs...   0xc62d5   \n",
       "3569429  IDBs/Dataset-Finetuning/x86/O3/x86-O3-libwolfs...   0xc6302   \n",
       "\n",
       "                           func_name_2 db_type  \n",
       "0                           ECDSA_size      XM  \n",
       "1           EC_GROUP_check_named_curve      XM  \n",
       "2                EC_get_builtin_curves      XM  \n",
       "3        ossl_ec_curve_nid_from_params      XM  \n",
       "4               EC_GROUP_new_curve_GFp      XM  \n",
       "...                                ...     ...  \n",
       "3569425             wolfSSL_LH_strhash      XM  \n",
       "3569426                wolfSSL_3des_iv      XM  \n",
       "3569427             wolfSSL_aes_ctr_iv      XM  \n",
       "3569428            wolfSSL_UseKeyShare      XM  \n",
       "3569429            wolfSSL_NoKeyShares      XM  \n",
       "\n",
       "[3569430 rows x 7 columns]"
      ]
     },
     "execution_count": 12,
     "metadata": {},
     "output_type": "execute_result"
    }
   ],
   "source": [
    "pairs_training"
   ]
  },
  {
   "cell_type": "markdown",
   "id": "07331826-5215-4e48-9e76-c085cf986bc7",
   "metadata": {},
   "source": [
    "### Create positive and negative pairs"
   ]
  },
  {
   "cell_type": "code",
   "execution_count": 13,
   "id": "fa23cfdd-8c1d-4bb8-ab7b-35c19134d62f",
   "metadata": {},
   "outputs": [
    {
     "name": "stdout",
     "output_type": "stream",
     "text": [
      "Counts of pos and neg pairs:\n",
      "Training 30766 3076656\n",
      "Testing 3591 359150\n",
      "Validation 3573 357386\n"
     ]
    }
   ],
   "source": [
    "def create_similarity_pairs(df_input, neg_for_pos=100):\n",
    "    def extract_keywords(func_name):\n",
    "        func_name = str(func_name).lower()\n",
    "        return set([kw for kw in crypto_keywords if kw in func_name])\n",
    "\n",
    "    def has_common_crypto_keyword(row):\n",
    "        kw1 = extract_keywords(row['func_name_1'])\n",
    "        kw2 = extract_keywords(row['func_name_2'])\n",
    "        return len(kw1 & kw2) > 0\n",
    "\n",
    "    def no_common_crypto_keyword(row):\n",
    "        kw1 = extract_keywords(row['func_name_1'])\n",
    "        kw2 = extract_keywords(row['func_name_2'])\n",
    "        return len(kw1 & kw2) == 0\n",
    "\n",
    "    df_pos = df_input[df_input.apply(has_common_crypto_keyword, axis=1)].copy()\n",
    "    df_neg = df_input[df_input.apply(no_common_crypto_keyword, axis=1)].copy()\n",
    "\n",
    "    if len(df_pos) * neg_for_pos > len(df_neg):\n",
    "        num_neg = len(df_neg)\n",
    "        num_pos = len(df_neg) // neg_for_pos\n",
    "        df_pos = df_pos.sample(frac=1, random_state=837465).reset_index(drop=True)[:num_pos]\n",
    "    else:\n",
    "        num_pos = len(df_pos)\n",
    "        num_neg = len(df_pos) * neg_for_pos\n",
    "        df_neg = df_neg.sample(frac=1, random_state=837465).reset_index(drop=True)[:num_neg]\n",
    "\n",
    "    return df_pos, df_neg\n",
    "\n",
    "# training: 61467 399628\n",
    "df_pos_training, df_neg_training = create_similarity_pairs(pairs_training)\n",
    "# testing: 7139 40696\n",
    "df_pos_testing, df_neg_testing = create_similarity_pairs(pairs_testing)\n",
    "# validation: 7006 41444\n",
    "df_pos_validation, df_neg_validation = create_similarity_pairs(pairs_validation)\n",
    "\n",
    "print(\"Counts of pos and neg pairs:\")\n",
    "print(\"Training\", len(df_pos_training), len(df_neg_training))\n",
    "print(\"Testing\", len(df_pos_testing), len(df_neg_testing))\n",
    "print(\"Validation\", len(df_pos_validation), len(df_neg_validation))"
   ]
  },
  {
   "cell_type": "code",
   "execution_count": 14,
   "id": "6bcff9f4-87b2-4622-8bf7-201ec131125b",
   "metadata": {
    "scrolled": true
   },
   "outputs": [
    {
     "data": {
      "text/html": [
       "<div>\n",
       "<style scoped>\n",
       "    .dataframe tbody tr th:only-of-type {\n",
       "        vertical-align: middle;\n",
       "    }\n",
       "\n",
       "    .dataframe tbody tr th {\n",
       "        vertical-align: top;\n",
       "    }\n",
       "\n",
       "    .dataframe thead th {\n",
       "        text-align: right;\n",
       "    }\n",
       "</style>\n",
       "<table border=\"1\" class=\"dataframe\">\n",
       "  <thead>\n",
       "    <tr style=\"text-align: right;\">\n",
       "      <th></th>\n",
       "      <th>idb_path_1</th>\n",
       "      <th>fva_1</th>\n",
       "      <th>func_name_1</th>\n",
       "      <th>idb_path_2</th>\n",
       "      <th>fva_2</th>\n",
       "      <th>func_name_2</th>\n",
       "      <th>db_type</th>\n",
       "    </tr>\n",
       "  </thead>\n",
       "  <tbody>\n",
       "    <tr>\n",
       "      <th>0</th>\n",
       "      <td>IDBs/Dataset-Finetuning/arm64/O1/arm64-O1-libm...</td>\n",
       "      <td>0x3feb0</td>\n",
       "      <td>mbedtls_poly1305_self_test</td>\n",
       "      <td>IDBs/Dataset-Finetuning/arm64/O1/arm64-O1-libg...</td>\n",
       "      <td>0x34368</td>\n",
       "      <td>poly1305mac_setiv</td>\n",
       "      <td>XM</td>\n",
       "    </tr>\n",
       "    <tr>\n",
       "      <th>1</th>\n",
       "      <td>IDBs/Dataset-Finetuning/arm32/O1/arm32-O1-libg...</td>\n",
       "      <td>0x5e324</td>\n",
       "      <td>dsa_verify</td>\n",
       "      <td>IDBs/Dataset-Finetuning/arm32/O1/arm32-O1-libc...</td>\n",
       "      <td>0xe87d4</td>\n",
       "      <td>dsa_sig_print</td>\n",
       "      <td>XM</td>\n",
       "    </tr>\n",
       "    <tr>\n",
       "      <th>2</th>\n",
       "      <td>IDBs/Dataset-Finetuning/mips32/O1/mips32-O1-li...</td>\n",
       "      <td>0x23d6a8</td>\n",
       "      <td>ossl_rsa_padding_check_PKCS1_type_2_TLS</td>\n",
       "      <td>IDBs/Dataset-Finetuning/mips32/O1/mips32-O1-li...</td>\n",
       "      <td>0x242304</td>\n",
       "      <td>ossl_rsa_check_pminusq_diff</td>\n",
       "      <td>XM</td>\n",
       "    </tr>\n",
       "    <tr>\n",
       "      <th>3</th>\n",
       "      <td>IDBs/Dataset-Finetuning/arm64/O1/arm64-O1-libc...</td>\n",
       "      <td>0x201b84</td>\n",
       "      <td>ossl_rsa_check_prime_factor</td>\n",
       "      <td>IDBs/Dataset-Finetuning/arm64/O1/arm64-O1-libw...</td>\n",
       "      <td>0x43d1c</td>\n",
       "      <td>RsaSign</td>\n",
       "      <td>XM</td>\n",
       "    </tr>\n",
       "    <tr>\n",
       "      <th>4</th>\n",
       "      <td>IDBs/Dataset-Finetuning/mips32/O1/mips32-O1-li...</td>\n",
       "      <td>0x2bf988</td>\n",
       "      <td>rsa_decrypt</td>\n",
       "      <td>IDBs/Dataset-Finetuning/mips32/O1/mips32-O1-li...</td>\n",
       "      <td>0x2309a0</td>\n",
       "      <td>ossl_rsa_todata</td>\n",
       "      <td>XM</td>\n",
       "    </tr>\n",
       "    <tr>\n",
       "      <th>...</th>\n",
       "      <td>...</td>\n",
       "      <td>...</td>\n",
       "      <td>...</td>\n",
       "      <td>...</td>\n",
       "      <td>...</td>\n",
       "      <td>...</td>\n",
       "      <td>...</td>\n",
       "    </tr>\n",
       "    <tr>\n",
       "      <th>30761</th>\n",
       "      <td>IDBs/Dataset-Finetuning/x86/O1/x86-O1-libmbedc...</td>\n",
       "      <td>0x34682</td>\n",
       "      <td>pem_des3_decrypt</td>\n",
       "      <td>IDBs/Dataset-Finetuning/x86/O3/x86-O3-libcrypt...</td>\n",
       "      <td>0x14bf20</td>\n",
       "      <td>DES_string_to_2keys</td>\n",
       "      <td>XM</td>\n",
       "    </tr>\n",
       "    <tr>\n",
       "      <th>30762</th>\n",
       "      <td>IDBs/Dataset-Finetuning/arm32/O3/arm32-O3-libw...</td>\n",
       "      <td>0x31b6c</td>\n",
       "      <td>wc_AesGcmDecrypt</td>\n",
       "      <td>IDBs/Dataset-Finetuning/arm32/O3/arm32-O3-libw...</td>\n",
       "      <td>0x4284c</td>\n",
       "      <td>wc_AesCmacVerify</td>\n",
       "      <td>XM</td>\n",
       "    </tr>\n",
       "    <tr>\n",
       "      <th>30763</th>\n",
       "      <td>IDBs/Dataset-Finetuning/mips32/O3/mips32-O3-li...</td>\n",
       "      <td>0xa5af0</td>\n",
       "      <td>wolfSSL_RSA_private_encrypt</td>\n",
       "      <td>IDBs/Dataset-Finetuning/mips32/O3/mips32-O3-li...</td>\n",
       "      <td>0x1cd750</td>\n",
       "      <td>RSA_X931_generate_key_ex</td>\n",
       "      <td>XM</td>\n",
       "    </tr>\n",
       "    <tr>\n",
       "      <th>30764</th>\n",
       "      <td>IDBs/Dataset-Finetuning/mips32/O1/mips32-O1-li...</td>\n",
       "      <td>0x4fc60</td>\n",
       "      <td>wc_ecc_shared_secret_ex</td>\n",
       "      <td>IDBs/Dataset-Finetuning/mips32/O1/mips32-O1-li...</td>\n",
       "      <td>0x4fdac</td>\n",
       "      <td>wc_ecc_shared_secret</td>\n",
       "      <td>XM</td>\n",
       "    </tr>\n",
       "    <tr>\n",
       "      <th>30765</th>\n",
       "      <td>IDBs/Dataset-Finetuning/mips32/O3/mips32-O3-li...</td>\n",
       "      <td>0x25bb0</td>\n",
       "      <td>SSL_do_handshake</td>\n",
       "      <td>IDBs/Dataset-Finetuning/mips32/O3/mips32-O3-li...</td>\n",
       "      <td>0xaf568</td>\n",
       "      <td>wolfSSL_get_shared_ciphers</td>\n",
       "      <td>XM</td>\n",
       "    </tr>\n",
       "  </tbody>\n",
       "</table>\n",
       "<p>30766 rows × 7 columns</p>\n",
       "</div>"
      ],
      "text/plain": [
       "                                              idb_path_1     fva_1  \\\n",
       "0      IDBs/Dataset-Finetuning/arm64/O1/arm64-O1-libm...   0x3feb0   \n",
       "1      IDBs/Dataset-Finetuning/arm32/O1/arm32-O1-libg...   0x5e324   \n",
       "2      IDBs/Dataset-Finetuning/mips32/O1/mips32-O1-li...  0x23d6a8   \n",
       "3      IDBs/Dataset-Finetuning/arm64/O1/arm64-O1-libc...  0x201b84   \n",
       "4      IDBs/Dataset-Finetuning/mips32/O1/mips32-O1-li...  0x2bf988   \n",
       "...                                                  ...       ...   \n",
       "30761  IDBs/Dataset-Finetuning/x86/O1/x86-O1-libmbedc...   0x34682   \n",
       "30762  IDBs/Dataset-Finetuning/arm32/O3/arm32-O3-libw...   0x31b6c   \n",
       "30763  IDBs/Dataset-Finetuning/mips32/O3/mips32-O3-li...   0xa5af0   \n",
       "30764  IDBs/Dataset-Finetuning/mips32/O1/mips32-O1-li...   0x4fc60   \n",
       "30765  IDBs/Dataset-Finetuning/mips32/O3/mips32-O3-li...   0x25bb0   \n",
       "\n",
       "                                   func_name_1  \\\n",
       "0                   mbedtls_poly1305_self_test   \n",
       "1                                   dsa_verify   \n",
       "2      ossl_rsa_padding_check_PKCS1_type_2_TLS   \n",
       "3                  ossl_rsa_check_prime_factor   \n",
       "4                                  rsa_decrypt   \n",
       "...                                        ...   \n",
       "30761                         pem_des3_decrypt   \n",
       "30762                         wc_AesGcmDecrypt   \n",
       "30763              wolfSSL_RSA_private_encrypt   \n",
       "30764                  wc_ecc_shared_secret_ex   \n",
       "30765                         SSL_do_handshake   \n",
       "\n",
       "                                              idb_path_2     fva_2  \\\n",
       "0      IDBs/Dataset-Finetuning/arm64/O1/arm64-O1-libg...   0x34368   \n",
       "1      IDBs/Dataset-Finetuning/arm32/O1/arm32-O1-libc...   0xe87d4   \n",
       "2      IDBs/Dataset-Finetuning/mips32/O1/mips32-O1-li...  0x242304   \n",
       "3      IDBs/Dataset-Finetuning/arm64/O1/arm64-O1-libw...   0x43d1c   \n",
       "4      IDBs/Dataset-Finetuning/mips32/O1/mips32-O1-li...  0x2309a0   \n",
       "...                                                  ...       ...   \n",
       "30761  IDBs/Dataset-Finetuning/x86/O3/x86-O3-libcrypt...  0x14bf20   \n",
       "30762  IDBs/Dataset-Finetuning/arm32/O3/arm32-O3-libw...   0x4284c   \n",
       "30763  IDBs/Dataset-Finetuning/mips32/O3/mips32-O3-li...  0x1cd750   \n",
       "30764  IDBs/Dataset-Finetuning/mips32/O1/mips32-O1-li...   0x4fdac   \n",
       "30765  IDBs/Dataset-Finetuning/mips32/O3/mips32-O3-li...   0xaf568   \n",
       "\n",
       "                       func_name_2 db_type  \n",
       "0                poly1305mac_setiv      XM  \n",
       "1                    dsa_sig_print      XM  \n",
       "2      ossl_rsa_check_pminusq_diff      XM  \n",
       "3                          RsaSign      XM  \n",
       "4                  ossl_rsa_todata      XM  \n",
       "...                            ...     ...  \n",
       "30761          DES_string_to_2keys      XM  \n",
       "30762             wc_AesCmacVerify      XM  \n",
       "30763     RSA_X931_generate_key_ex      XM  \n",
       "30764         wc_ecc_shared_secret      XM  \n",
       "30765   wolfSSL_get_shared_ciphers      XM  \n",
       "\n",
       "[30766 rows x 7 columns]"
      ]
     },
     "execution_count": 14,
     "metadata": {},
     "output_type": "execute_result"
    }
   ],
   "source": [
    "df_pos_training"
   ]
  },
  {
   "cell_type": "code",
   "execution_count": 15,
   "id": "2df7dbd3-ee7a-415a-811b-69ba04cbeb77",
   "metadata": {},
   "outputs": [
    {
     "name": "stdout",
     "output_type": "stream",
     "text": [
      "[D] Converting the positive/negative pairs into CSV...\n",
      "Done!!\n"
     ]
    }
   ],
   "source": [
    "print(\"[D] Converting the positive/negative pairs into CSV...\", flush=True)\n",
    "\n",
    "df_pos_training.to_csv(\"pairs/training/pos-training-Finetuning.csv\")\n",
    "df_pos_testing.to_csv(\"pairs/testing/pos-testing-Finetuning.csv\")\n",
    "df_pos_validation.to_csv(\"pairs/validation/pos-validation-Finetuning.csv\")\n",
    "df_neg_training.to_csv(\"pairs/training/neg-training-Finetuning.csv\")\n",
    "df_neg_testing.to_csv(\"pairs/testing/neg-testing-Finetuning.csv\")\n",
    "df_neg_validation.to_csv(\"pairs/validation/neg-validation-Finetuning.csv\")\n",
    "\n",
    "print(\"Done!!\")"
   ]
  },
  {
   "cell_type": "code",
   "execution_count": 16,
   "id": "b924260b-4bbb-4cf7-9dc6-e8ba51e8bc83",
   "metadata": {},
   "outputs": [
    {
     "name": "stdout",
     "output_type": "stream",
     "text": [
      "Training size: 3772\n",
      "Testing size: 1281\n",
      "Validation size: 1289\n"
     ]
    }
   ],
   "source": [
    "def filter_functions_in_pairs(df_input, pairs_df):\n",
    "    pair_funcs = set(\n",
    "        list(zip(pairs_df[\"idb_path_1\"], pairs_df[\"func_name_1\"])) +\n",
    "        list(zip(pairs_df[\"idb_path_2\"], pairs_df[\"func_name_2\"]))\n",
    "    )\n",
    "\n",
    "    df_filtered = df_input[\n",
    "        df_input.apply(lambda row: (row[\"idb_path\"], row[\"func_name\"]) in pair_funcs, axis=1)\n",
    "    ].copy()\n",
    "\n",
    "    return df_filtered\n",
    "\n",
    "df_training = filter_functions_in_pairs(df_training, pd.concat([df_pos_training, df_neg_training], ignore_index=True))\n",
    "df_testing = filter_functions_in_pairs(df_testing, pd.concat([df_pos_testing, df_neg_testing], ignore_index=True))\n",
    "df_validation = filter_functions_in_pairs(df_validation, pd.concat([df_pos_validation, df_neg_validation], ignore_index=True))\n",
    "\n",
    "# Check the result\n",
    "print(f\"Training size: {len(df_training)}\")\n",
    "print(f\"Testing size: {len(df_testing)}\")\n",
    "print(f\"Validation size: {len(df_validation)}\")"
   ]
  },
  {
   "cell_type": "code",
   "execution_count": 17,
   "id": "629cbf6f-be8f-4a79-b9c1-8c9a266d6ae1",
   "metadata": {},
   "outputs": [
    {
     "name": "stdout",
     "output_type": "stream",
     "text": [
      "[D] Converting Dataset into CSV...\n",
      "Done!!\n"
     ]
    }
   ],
   "source": [
    "print(\"[D] Converting Dataset into CSV...\", flush=True)\n",
    "\n",
    "df_training.to_csv(\"training_Dataset-Finetuning.csv\")\n",
    "df_testing.to_csv(\"testing_Dataset-Finetuning.csv\")\n",
    "df_validation.to_csv(\"validation_Dataset-Finetuning.csv\")\n",
    "\n",
    "print(\"Done!!\")"
   ]
  },
  {
   "cell_type": "code",
   "execution_count": 18,
   "id": "23661f59-5d8b-4539-8f5d-4f61e6417d87",
   "metadata": {},
   "outputs": [
    {
     "name": "stdout",
     "output_type": "stream",
     "text": [
      "training: 3772 functions\n",
      "validation: 1289 functions\n",
      "testing: 1281 functions\n",
      "All done!!\n"
     ]
    }
   ],
   "source": [
    "# Save the \"selected functions\" to a JSON.\n",
    "# This is useful to limit the IDA analysis to some functions only.\n",
    "df_list = [df_training, df_validation, df_testing]\n",
    "split_list = [\"training\", \"validation\", \"testing\"]\n",
    "\n",
    "for split, df_t in zip(split_list, df_list):\n",
    "\n",
    "    fset = set([tuple(x) for x in df_t[['idb_path', 'fva']].values])\n",
    "    print(\"{}: {} functions\".format(split, len(fset)))\n",
    "\n",
    "    selected_functions = defaultdict(list)\n",
    "    for t in fset:\n",
    "        selected_functions[t[0]].append(int(t[1], 16))\n",
    "        \n",
    "    # Test\n",
    "    assert(sum([len(v) for v in selected_functions.values()]) == len(fset))\n",
    "\n",
    "    # Save to file\n",
    "    with open(os.path.join(\"features\", split, \"selected_{}_Dataset-Finetuning.json\".format(split)), \"w\") as f_out:\n",
    "        json.dump(selected_functions, f_out)\n",
    "\n",
    "print(\"All done!!\")"
   ]
  }
 ],
 "metadata": {
  "kernelspec": {
   "display_name": "py311_binary",
   "language": "python",
   "name": "my_kernel"
  },
  "language_info": {
   "codemirror_mode": {
    "name": "ipython",
    "version": 3
   },
   "file_extension": ".py",
   "mimetype": "text/x-python",
   "name": "python",
   "nbconvert_exporter": "python",
   "pygments_lexer": "ipython3",
   "version": "3.11.12"
  }
 },
 "nbformat": 4,
 "nbformat_minor": 5
}
